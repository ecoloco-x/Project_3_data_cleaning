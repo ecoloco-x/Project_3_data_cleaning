{
 "cells": [
  {
   "cell_type": "markdown",
   "metadata": {},
   "source": []
  }
 ],
 "metadata": {
  "interpreter": {
   "hash": "33da086d554eec567d8b406bbcd7948895ceade5c031f5729ae0458df421185c"
  },
  "kernelspec": {
   "display_name": "Python 3.10.9 64-bit",
   "name": "python3"
  },
  "language_info": {
   "name": "python",
   "version": ""
  },
  "orig_nbformat": 4
 },
 "nbformat": 4,
 "nbformat_minor": 2
}